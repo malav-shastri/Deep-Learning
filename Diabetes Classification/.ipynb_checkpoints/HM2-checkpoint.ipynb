{
 "cells": [
  {
   "cell_type": "markdown",
   "metadata": {},
   "source": [
    "# Numerical Optimization for Logistic Regression.\n",
    "\n",
    "### - Malav Shastri\n"
   ]
  },
  {
   "cell_type": "markdown",
   "metadata": {},
   "source": [
    "\n",
    "\n",
    "1. Read the lecture note: [click here](https://github.com/wangshusen/DeepLearning/blob/master/LectureNotes/Logistic/paper/logistic.pdf)\n",
    "2. **Implement mini-batch SGD** and evaluate the performance.\n",
    "\n",
    "\n"
   ]
  },
  {
   "cell_type": "markdown",
   "metadata": {},
   "source": [
    "# 1. Data processing\n",
    "\n",
    "- Download the Diabete dataset from https://www.csie.ntu.edu.tw/~cjlin/libsvmtools/datasets/binary/diabetes\n",
    "- Load the data using sklearn.\n",
    "- Preprocess the data."
   ]
  },
  {
   "cell_type": "markdown",
   "metadata": {},
   "source": [
    "## 1.1. Load the data"
   ]
  },
  {
   "cell_type": "code",
   "execution_count": 1,
   "metadata": {},
   "outputs": [
    {
     "name": "stdout",
     "output_type": "stream",
     "text": [
      "Shape of x: (768, 8)\n",
      "Shape of y: (768,)\n"
     ]
    }
   ],
   "source": [
    "from sklearn import datasets\n",
    "import numpy\n",
    "\n",
    "x_sparse, y = datasets.load_svmlight_file('diabetes')\n",
    "x = x_sparse.todense()\n",
    "print('Shape of x: ' + str(x.shape))\n",
    "print('Shape of y: ' + str(y.shape))"
   ]
  },
  {
   "cell_type": "markdown",
   "metadata": {},
   "source": [
    "## 1.2. Partition to training and test sets"
   ]
  },
  {
   "cell_type": "code",
   "execution_count": 2,
   "metadata": {},
   "outputs": [
    {
     "name": "stdout",
     "output_type": "stream",
     "text": [
      "Shape of x_train: (640, 8)\n",
      "Shape of x_test: (128, 8)\n",
      "Shape of y_train: (640, 1)\n",
      "Shape of y_test: (128, 1)\n"
     ]
    }
   ],
   "source": [
    "# partition the data to training and test sets\n",
    "n = x.shape[0]\n",
    "n_train = 640\n",
    "n_test = n - n_train\n",
    "\n",
    "rand_indices = numpy.random.permutation(n)\n",
    "train_indices = rand_indices[0:n_train]\n",
    "test_indices = rand_indices[n_train:n]\n",
    "\n",
    "x_train = x[train_indices, :]\n",
    "x_test = x[test_indices, :]\n",
    "y_train = y[train_indices].reshape(n_train, 1)\n",
    "y_test = y[test_indices].reshape(n_test, 1)\n",
    "\n",
    "print('Shape of x_train: ' + str(x_train.shape))\n",
    "print('Shape of x_test: ' + str(x_test.shape))\n",
    "print('Shape of y_train: ' + str(y_train.shape))\n",
    "print('Shape of y_test: ' + str(y_test.shape))"
   ]
  },
  {
   "cell_type": "markdown",
   "metadata": {},
   "source": [
    "## 1.3. Feature scaling"
   ]
  },
  {
   "cell_type": "markdown",
   "metadata": {},
   "source": [
    "Use the standardization to trainsform both training and test features"
   ]
  },
  {
   "cell_type": "code",
   "execution_count": 3,
   "metadata": {},
   "outputs": [
    {
     "name": "stdout",
     "output_type": "stream",
     "text": [
      "test mean = \n",
      "[[-0.04540135 -0.01369003  0.05249806  0.25365942  0.05483595  0.01434998\n",
      "   0.09056953 -0.14876039]]\n",
      "test std = \n",
      "[[1.05040587 0.88829682 0.74827023 1.04310982 0.82997582 0.95468772\n",
      "  1.00965742 0.84343128]]\n"
     ]
    }
   ],
   "source": [
    "# Standardization\n",
    "import numpy\n",
    "\n",
    "# calculate mu and sig using the training set\n",
    "d = x_train.shape[1]\n",
    "mu = numpy.mean(x_train, axis=0).reshape(1, d)\n",
    "sig = numpy.std(x_train, axis=0).reshape(1, d)\n",
    "\n",
    "# transform the training features\n",
    "x_train = (x_train - mu) / (sig + 1E-6)\n",
    "\n",
    "# transform the test features\n",
    "x_test = (x_test - mu) / (sig + 1E-6)\n",
    "\n",
    "print('test mean = ')\n",
    "print(numpy.mean(x_test, axis=0))\n",
    "\n",
    "print('test std = ')\n",
    "print(numpy.std(x_test, axis=0))"
   ]
  },
  {
   "cell_type": "markdown",
   "metadata": {},
   "source": [
    "## 1.4. Add a dimension of all ones"
   ]
  },
  {
   "cell_type": "code",
   "execution_count": 4,
   "metadata": {},
   "outputs": [
    {
     "name": "stdout",
     "output_type": "stream",
     "text": [
      "Shape of x_train: (640, 9)\n",
      "Shape of x_test: (128, 9)\n"
     ]
    }
   ],
   "source": [
    "n_train, d = x_train.shape\n",
    "x_train = numpy.concatenate((x_train, numpy.ones((n_train, 1))), axis=1)\n",
    "\n",
    "n_test, d = x_test.shape\n",
    "x_test = numpy.concatenate((x_test, numpy.ones((n_test, 1))), axis=1)\n",
    "\n",
    "print('Shape of x_train: ' + str(x_train.shape))\n",
    "print('Shape of x_test: ' + str(x_test.shape))"
   ]
  },
  {
   "cell_type": "markdown",
   "metadata": {},
   "source": [
    "# 2. Logistic regression model\n",
    "\n",
    "The objective function is $Q (w; X, y) = \\frac{1}{n} \\sum_{i=1}^n \\log \\Big( 1 + \\exp \\big( - y_i x_i^T w \\big) \\Big) + \\frac{\\lambda}{2} \\| w \\|_2^2 $."
   ]
  },
  {
   "cell_type": "code",
   "execution_count": 5,
   "metadata": {},
   "outputs": [],
   "source": [
    "# Calculate the objective function value\n",
    "# Inputs:\n",
    "#     w: d-by-1 matrix\n",
    "#     x: n-by-d matrix\n",
    "#     y: n-by-1 matrix\n",
    "#     lam: scalar, the regularization parameter\n",
    "# Return:\n",
    "#     objective function value (scalar)\n",
    "def objective(w, x, y, lam):\n",
    "    n, d = x.shape\n",
    "    yx = numpy.multiply(y, x) # n-by-d matrix\n",
    "    yxw = numpy.dot(yx, w) # n-by-1 matrix\n",
    "    vec1 = numpy.exp(-yxw) # n-by-1 matrix\n",
    "    vec2 = numpy.log(1 + vec1) # n-by-1 matrix\n",
    "    loss = numpy.mean(vec2) # scalar\n",
    "    reg = lam / 2 * numpy.sum(w * w) # scalar\n",
    "    return loss + reg\n",
    "    "
   ]
  },
  {
   "cell_type": "code",
   "execution_count": 6,
   "metadata": {},
   "outputs": [
    {
     "name": "stdout",
     "output_type": "stream",
     "text": [
      "Initial objective function value = 0.6931471805599453\n"
     ]
    }
   ],
   "source": [
    "# initialize w\n",
    "d = x_train.shape[1]\n",
    "w = numpy.zeros((d, 1))\n",
    "\n",
    "# evaluate the objective function value at w\n",
    "lam = 1E-6\n",
    "objval0 = objective(w, x_train, y_train, lam)\n",
    "print('Initial objective function value = ' + str(objval0))"
   ]
  },
  {
   "cell_type": "markdown",
   "metadata": {},
   "source": [
    "# 3. Numerical optimization"
   ]
  },
  {
   "cell_type": "markdown",
   "metadata": {},
   "source": [
    "## 3.1. Gradient descent\n"
   ]
  },
  {
   "cell_type": "markdown",
   "metadata": {},
   "source": [
    "The gradient at $w$ is $g = - \\frac{1}{n} \\sum_{i=1}^n \\frac{y_i x_i }{1 + \\exp ( y_i x_i^T w)} + \\lambda w$"
   ]
  },
  {
   "cell_type": "code",
   "execution_count": 7,
   "metadata": {},
   "outputs": [],
   "source": [
    "# Calculate the gradient\n",
    "# Inputs:\n",
    "#     w: d-by-1 matrix\n",
    "#     x: n-by-d matrix\n",
    "#     y: n-by-1 matrix\n",
    "#     lam: scalar, the regularization parameter\n",
    "# Return:\n",
    "#     g: g: d-by-1 matrix, full gradient\n",
    "def gradient(w, x, y, lam):\n",
    "    n, d = x.shape\n",
    "    yx = numpy.multiply(y, x) # n-by-d matrix\n",
    "    yxw = numpy.dot(yx, w) # n-by-1 matrix\n",
    "    vec1 = numpy.exp(yxw) # n-by-1 matrix\n",
    "    vec2 = numpy.divide(yx, 1+vec1) # n-by-d matrix\n",
    "    vec3 = -numpy.mean(vec2, axis=0).reshape(d, 1) # d-by-1 matrix\n",
    "    g = vec3 + lam * w\n",
    "    return g"
   ]
  },
  {
   "cell_type": "code",
   "execution_count": 8,
   "metadata": {},
   "outputs": [],
   "source": [
    "# Gradient descent for solving logistic regression\n",
    "# Inputs:\n",
    "#     x: n-by-d matrix\n",
    "#     y: n-by-1 matrix\n",
    "#     lam: scalar, the regularization parameter\n",
    "#     stepsize: scalar\n",
    "#     max_iter: integer, the maximal iterations\n",
    "#     w: d-by-1 matrix, initialization of w\n",
    "# Return:\n",
    "#     w: d-by-1 matrix, the solution\n",
    "#     objvals: a record of each iteration's objective value\n",
    "def grad_descent(x, y, lam, stepsize, max_iter=100, w=None):\n",
    "    n, d = x.shape\n",
    "    objvals = numpy.zeros(max_iter) # store the objective values\n",
    "    if w is None:\n",
    "        w = numpy.zeros((d, 1)) # zero initialization\n",
    "    \n",
    "    for t in range(max_iter):\n",
    "        objval = objective(w, x, y, lam)\n",
    "        objvals[t] = objval\n",
    "        print('Objective value at t=' + str(t) + ' is ' + str(objval))\n",
    "        g = gradient(w, x, y, lam)\n",
    "        w -= stepsize * g\n",
    "    \n",
    "    return w, objvals"
   ]
  },
  {
   "cell_type": "markdown",
   "metadata": {},
   "source": [
    "Run gradient descent."
   ]
  },
  {
   "cell_type": "code",
   "execution_count": 9,
   "metadata": {},
   "outputs": [
    {
     "name": "stdout",
     "output_type": "stream",
     "text": [
      "Objective value at t=0 is 0.6931471805599453\n",
      "Objective value at t=1 is 0.593546739632974\n",
      "Objective value at t=2 is 0.5513132686706287\n",
      "Objective value at t=3 is 0.5281436092689923\n",
      "Objective value at t=4 is 0.5135402440468784\n",
      "Objective value at t=5 is 0.5036050050080867\n",
      "Objective value at t=6 is 0.4965191326818466\n",
      "Objective value at t=7 is 0.4913002296349463\n",
      "Objective value at t=8 is 0.4873642759862306\n",
      "Objective value at t=9 is 0.4843407055733217\n",
      "Objective value at t=10 is 0.48198320707401676\n",
      "Objective value at t=11 is 0.48012224794205016\n",
      "Objective value at t=12 is 0.47863789334250767\n",
      "Objective value at t=13 is 0.47744336927843695\n",
      "Objective value at t=14 is 0.4764746961311756\n",
      "Objective value at t=15 is 0.4756839290066707\n",
      "Objective value at t=16 is 0.4750346277613775\n",
      "Objective value at t=17 is 0.4744987502560404\n",
      "Objective value at t=18 is 0.47405447859747374\n",
      "Objective value at t=19 is 0.47368467107544227\n",
      "Objective value at t=20 is 0.47337574214575073\n",
      "Objective value at t=21 is 0.47311684047666436\n",
      "Objective value at t=22 is 0.47289923788761357\n",
      "Objective value at t=23 is 0.4727158696872802\n",
      "Objective value at t=24 is 0.47256098515767914\n",
      "Objective value at t=25 is 0.4724298791589767\n",
      "Objective value at t=26 is 0.47231868415730827\n",
      "Objective value at t=27 is 0.47222420773141854\n",
      "Objective value at t=28 is 0.472143804642633\n",
      "Objective value at t=29 is 0.47207527540894656\n",
      "Objective value at t=30 is 0.4720167853727545\n",
      "Objective value at t=31 is 0.4719667997374052\n",
      "Objective value at t=32 is 0.471924031136144\n",
      "Objective value at t=33 is 0.47188739710210353\n",
      "Objective value at t=34 is 0.47185598540891827\n",
      "Objective value at t=35 is 0.4718290257039247\n",
      "Objective value at t=36 is 0.47180586619921305\n",
      "Objective value at t=37 is 0.4717859544482967\n",
      "Objective value at t=38 is 0.4717688214383246\n",
      "Objective value at t=39 is 0.4717540683844964\n",
      "Objective value at t=40 is 0.47174135573563264\n",
      "Objective value at t=41 is 0.47173039399584366\n",
      "Objective value at t=42 is 0.4717209360430138\n",
      "Objective value at t=43 is 0.4717127706849548\n",
      "Objective value at t=44 is 0.4717057172420397\n",
      "Objective value at t=45 is 0.47169962098357293\n",
      "Objective value at t=46 is 0.4716943492760913\n",
      "Objective value at t=47 is 0.47168978832680397\n",
      "Objective value at t=48 is 0.47168584042568545\n",
      "Objective value at t=49 is 0.47168242160627427\n",
      "Objective value at t=50 is 0.47167945965875563\n",
      "Objective value at t=51 is 0.4716768924399986\n",
      "Objective value at t=52 is 0.4716746664343532\n",
      "Objective value at t=53 is 0.47167273552654343\n",
      "Objective value at t=54 is 0.4716710599542363\n",
      "Objective value at t=55 is 0.47166960541303926\n",
      "Objective value at t=56 is 0.4716683422909903\n",
      "Objective value at t=57 is 0.47166724501319507\n",
      "Objective value at t=58 is 0.47166629148026934\n",
      "Objective value at t=59 is 0.47166546258675895\n",
      "Objective value at t=60 is 0.4716647418078246\n",
      "Objective value at t=61 is 0.4716641148442462\n",
      "Objective value at t=62 is 0.47166356931730574\n",
      "Objective value at t=63 is 0.47166309450636046\n",
      "Objective value at t=64 is 0.4716626811229918\n",
      "Objective value at t=65 is 0.4716623211165108\n",
      "Objective value at t=66 is 0.47166200750637033\n",
      "Objective value at t=67 is 0.4716617342376805\n",
      "Objective value at t=68 is 0.4716614960565762\n",
      "Objective value at t=69 is 0.4716612884026527\n",
      "Objective value at t=70 is 0.47166110731608824\n",
      "Objective value at t=71 is 0.47166094935740743\n",
      "Objective value at t=72 is 0.4716608115381362\n",
      "Objective value at t=73 is 0.47166069126084087\n",
      "Objective value at t=74 is 0.47166058626726143\n",
      "Objective value at t=75 is 0.4716604945934261\n",
      "Objective value at t=76 is 0.471660414530793\n",
      "Objective value at t=77 is 0.4716603445925973\n",
      "Objective value at t=78 is 0.47166028348469297\n",
      "Objective value at t=79 is 0.4716602300802825\n",
      "Objective value at t=80 is 0.4716601833980062\n",
      "Objective value at t=81 is 0.47166014258294\n",
      "Objective value at t=82 is 0.4716601068901066\n",
      "Objective value at t=83 is 0.47166007567016754\n",
      "Objective value at t=84 is 0.47166004835699865\n",
      "Objective value at t=85 is 0.47166002445690197\n",
      "Objective value at t=86 is 0.47166000353923265\n",
      "Objective value at t=87 is 0.471659985228254\n",
      "Objective value at t=88 is 0.4716599691960579\n",
      "Objective value at t=89 is 0.471659955156408\n",
      "Objective value at t=90 is 0.4716599428593867\n",
      "Objective value at t=91 is 0.4716599320867356\n",
      "Objective value at t=92 is 0.47165992264780243\n",
      "Objective value at t=93 is 0.4716599143760119\n",
      "Objective value at t=94 is 0.4716599071257935\n",
      "Objective value at t=95 is 0.4716599007699048\n",
      "Objective value at t=96 is 0.4716598951971006\n",
      "Objective value at t=97 is 0.47165989031010097\n",
      "Objective value at t=98 is 0.47165988602382114\n",
      "Objective value at t=99 is 0.471659882263827\n"
     ]
    }
   ],
   "source": [
    "lam = 1E-6\n",
    "stepsize = 1.0\n",
    "w, objvals_gd = grad_descent(x_train, y_train, lam, stepsize)"
   ]
  },
  {
   "cell_type": "markdown",
   "metadata": {},
   "source": [
    "## 3.2. Stochastic gradient descent (SGD)\n",
    "\n",
    "Define $Q_i (w) = \\log \\Big( 1 + \\exp \\big( - y_i x_i^T w \\big) \\Big) + \\frac{\\lambda}{2} \\| w \\|_2^2 $.\n",
    "\n",
    "The stochastic gradient at $w$ is $g_i = \\frac{\\partial Q_i }{ \\partial w} = -\\frac{y_i x_i }{1 + \\exp ( y_i x_i^T w)} + \\lambda w$."
   ]
  },
  {
   "cell_type": "code",
   "execution_count": 10,
   "metadata": {},
   "outputs": [],
   "source": [
    "# Calculate the objective Q_i and the gradient of Q_i\n",
    "# Inputs:\n",
    "#     w: d-by-1 matrix\n",
    "#     xi: 1-by-d matrix\n",
    "#     yi: scalar\n",
    "#     lam: scalar, the regularization parameter\n",
    "# Return:\n",
    "#     obj: scalar, the objective Q_i\n",
    "#     g: d-by-1 matrix, gradient of Q_i\n",
    "def stochastic_objective_gradient(w, xi, yi, lam):\n",
    "    d = xi.shape[0]\n",
    "    yx = yi * xi # 1-by-d matrix\n",
    "    yxw = float(numpy.dot(yx, w)) # scalar\n",
    "    \n",
    "    # calculate objective function Q_i\n",
    "    loss = numpy.log(1 + numpy.exp(-yxw)) # scalar\n",
    "    reg = lam / 2 * numpy.sum(w * w) # scalar\n",
    "    obj = loss + reg\n",
    "    \n",
    "    # calculate stochastic gradient\n",
    "    g_loss = -yx.T / (1 + numpy.exp(yxw)) # d-by-1 matrix\n",
    "    g = g_loss + lam * w # d-by-1 matrix\n",
    "    \n",
    "    return obj, g"
   ]
  },
  {
   "cell_type": "code",
   "execution_count": 11,
   "metadata": {},
   "outputs": [],
   "source": [
    "# SGD for solving logistic regression\n",
    "# Inputs:\n",
    "#     x: n-by-d matrix\n",
    "#     y: n-by-1 matrix\n",
    "#     lam: scalar, the regularization parameter\n",
    "#     stepsize: scalar\n",
    "#     max_epoch: integer, the maximal epochs\n",
    "#     w: d-by-1 matrix, initialization of w\n",
    "# Return:\n",
    "#     w: the solution\n",
    "#     objvals: record of each iteration's objective value\n",
    "def sgd(x, y, lam, stepsize, max_epoch=100, w=None):\n",
    "    n, d = x.shape\n",
    "    objvals = numpy.zeros(max_epoch) # store the objective values\n",
    "    if w is None:\n",
    "        w = numpy.zeros((d, 1)) # zero initialization\n",
    "    \n",
    "    for t in range(max_epoch):\n",
    "        # randomly shuffle the samples\n",
    "        rand_indices = numpy.random.permutation(n)\n",
    "        x_rand = x[rand_indices, :]\n",
    "        y_rand = y[rand_indices, :]\n",
    "        \n",
    "        objval = 0 # accumulate the objective values\n",
    "        for i in range(n):\n",
    "            xi = x_rand[i, :] # 1-by-d matrix\n",
    "            yi = float(y_rand[i, :]) # scalar\n",
    "            obj, g = stochastic_objective_gradient(w, xi, yi, lam)\n",
    "            objval += obj\n",
    "            w -= stepsize * g\n",
    "        \n",
    "        stepsize *= 0.9 # decrease step size\n",
    "        objval /= n\n",
    "        objvals[t] = objval\n",
    "        print('Objective value at epoch t=' + str(t) + ' is ' + str(objval))\n",
    "    \n",
    "    return w, objvals"
   ]
  },
  {
   "cell_type": "markdown",
   "metadata": {},
   "source": [
    "Run SGD."
   ]
  },
  {
   "cell_type": "code",
   "execution_count": 12,
   "metadata": {},
   "outputs": [
    {
     "name": "stdout",
     "output_type": "stream",
     "text": [
      "Objective value at epoch t=0 is 0.5488024744090566\n",
      "Objective value at epoch t=1 is 0.5107241884646065\n",
      "Objective value at epoch t=2 is 0.5171523590559483\n",
      "Objective value at epoch t=3 is 0.5058948531354687\n",
      "Objective value at epoch t=4 is 0.5065010727183126\n",
      "Objective value at epoch t=5 is 0.5035844998559206\n",
      "Objective value at epoch t=6 is 0.504308603389608\n",
      "Objective value at epoch t=7 is 0.4971475476500876\n",
      "Objective value at epoch t=8 is 0.49545374039769874\n",
      "Objective value at epoch t=9 is 0.4948116989687669\n",
      "Objective value at epoch t=10 is 0.4920849858616049\n",
      "Objective value at epoch t=11 is 0.493664378861539\n",
      "Objective value at epoch t=12 is 0.48840062934494827\n",
      "Objective value at epoch t=13 is 0.4878207272253533\n",
      "Objective value at epoch t=14 is 0.48493979526417164\n",
      "Objective value at epoch t=15 is 0.48339407303737136\n",
      "Objective value at epoch t=16 is 0.48286321805106247\n",
      "Objective value at epoch t=17 is 0.483089385158414\n",
      "Objective value at epoch t=18 is 0.4821458205609295\n",
      "Objective value at epoch t=19 is 0.47975807336566767\n",
      "Objective value at epoch t=20 is 0.48019758852866623\n",
      "Objective value at epoch t=21 is 0.478967489362539\n",
      "Objective value at epoch t=22 is 0.47850522110177957\n",
      "Objective value at epoch t=23 is 0.4771785978831861\n",
      "Objective value at epoch t=24 is 0.4771832085324422\n",
      "Objective value at epoch t=25 is 0.47629195171698047\n",
      "Objective value at epoch t=26 is 0.47642320146585887\n",
      "Objective value at epoch t=27 is 0.4755903389157433\n",
      "Objective value at epoch t=28 is 0.47535978988613825\n",
      "Objective value at epoch t=29 is 0.4747952379911009\n",
      "Objective value at epoch t=30 is 0.4746225057636562\n",
      "Objective value at epoch t=31 is 0.47444536871002574\n",
      "Objective value at epoch t=32 is 0.47419038157896615\n",
      "Objective value at epoch t=33 is 0.4739518378883084\n",
      "Objective value at epoch t=34 is 0.47367955927070915\n",
      "Objective value at epoch t=35 is 0.47349021406309755\n",
      "Objective value at epoch t=36 is 0.47332182320533833\n",
      "Objective value at epoch t=37 is 0.47315023496254105\n",
      "Objective value at epoch t=38 is 0.4730139011255706\n",
      "Objective value at epoch t=39 is 0.47286130152007483\n",
      "Objective value at epoch t=40 is 0.4727508462204164\n",
      "Objective value at epoch t=41 is 0.47262895556943885\n",
      "Objective value at epoch t=42 is 0.47252310066596603\n",
      "Objective value at epoch t=43 is 0.47246994940689396\n",
      "Objective value at epoch t=44 is 0.4723842025119353\n",
      "Objective value at epoch t=45 is 0.47229639025493053\n",
      "Objective value at epoch t=46 is 0.47225054103028574\n",
      "Objective value at epoch t=47 is 0.4721873382816465\n",
      "Objective value at epoch t=48 is 0.47213621144938783\n",
      "Objective value at epoch t=49 is 0.47208817444559614\n",
      "Objective value at epoch t=50 is 0.47204445479203727\n",
      "Objective value at epoch t=51 is 0.4720081454582691\n",
      "Objective value at epoch t=52 is 0.47197221980620013\n",
      "Objective value at epoch t=53 is 0.4719418404693851\n",
      "Objective value at epoch t=54 is 0.4719145435664143\n",
      "Objective value at epoch t=55 is 0.4718892658901921\n",
      "Objective value at epoch t=56 is 0.4718660614036188\n",
      "Objective value at epoch t=57 is 0.4718454654806471\n",
      "Objective value at epoch t=58 is 0.4718269738984106\n",
      "Objective value at epoch t=59 is 0.47181060368460204\n",
      "Objective value at epoch t=60 is 0.4717948943428887\n",
      "Objective value at epoch t=61 is 0.4717819965656327\n",
      "Objective value at epoch t=62 is 0.4717697057669833\n",
      "Objective value at epoch t=63 is 0.471758928561946\n",
      "Objective value at epoch t=64 is 0.4717491085783002\n",
      "Objective value at epoch t=65 is 0.4717402584550384\n",
      "Objective value at epoch t=66 is 0.47173227327622647\n",
      "Objective value at epoch t=67 is 0.47172498767269166\n",
      "Objective value at epoch t=68 is 0.4717185942792087\n",
      "Objective value at epoch t=69 is 0.47171281250812924\n",
      "Objective value at epoch t=70 is 0.47170757805714914\n",
      "Objective value at epoch t=71 is 0.47170285652344807\n",
      "Objective value at epoch t=72 is 0.4716986181246501\n",
      "Objective value at epoch t=73 is 0.47169478797386544\n",
      "Objective value at epoch t=74 is 0.47169134222137876\n",
      "Objective value at epoch t=75 is 0.4716882590377331\n",
      "Objective value at epoch t=76 is 0.4716854845225362\n",
      "Objective value at epoch t=77 is 0.47168298051907254\n",
      "Objective value at epoch t=78 is 0.47168072218435003\n",
      "Objective value at epoch t=79 is 0.47167869043380717\n",
      "Objective value at epoch t=80 is 0.47167686515221663\n",
      "Objective value at epoch t=81 is 0.4716752228954621\n",
      "Objective value at epoch t=82 is 0.4716737426391287\n",
      "Objective value at epoch t=83 is 0.47167240647574527\n",
      "Objective value at epoch t=84 is 0.47167121002350143\n",
      "Objective value at epoch t=85 is 0.4716701315184668\n",
      "Objective value at epoch t=86 is 0.47166915935832804\n",
      "Objective value at epoch t=87 is 0.47166828507870723\n",
      "Objective value at epoch t=88 is 0.47166749745854963\n",
      "Objective value at epoch t=89 is 0.47166678961889963\n",
      "Objective value at epoch t=90 is 0.47166615339077317\n",
      "Objective value at epoch t=91 is 0.47166557892409344\n",
      "Objective value at epoch t=92 is 0.4716650623859577\n",
      "Objective value at epoch t=93 is 0.47166459874574046\n",
      "Objective value at epoch t=94 is 0.47166418050580006\n",
      "Objective value at epoch t=95 is 0.47166380413646386\n",
      "Objective value at epoch t=96 is 0.47166346529048536\n",
      "Objective value at epoch t=97 is 0.47166316051376544\n",
      "Objective value at epoch t=98 is 0.47166288601900164\n",
      "Objective value at epoch t=99 is 0.47166263923809276\n"
     ]
    }
   ],
   "source": [
    "lam = 1E-6\n",
    "stepsize = 0.1\n",
    "w, objvals_sgd = sgd(x_train, y_train, lam, stepsize)"
   ]
  },
  {
   "cell_type": "markdown",
   "metadata": {},
   "source": [
    "# 4. Compare GD with SGD\n",
    "\n",
    "Plot objective function values against epochs."
   ]
  },
  {
   "cell_type": "code",
   "execution_count": 13,
   "metadata": {},
   "outputs": [
    {
     "data": {
      "image/png": "[encoded data removed]",
      "text/plain": [
       "<Figure size 432x288 with 1 Axes>"
      ]
     },
     "metadata": {
      "needs_background": "light"
     },
     "output_type": "display_data"
    }
   ],
   "source": [
    "import matplotlib.pyplot as plt\n",
    "%matplotlib inline\n",
    "\n",
    "fig = plt.figure(figsize=(6, 4))\n",
    "\n",
    "epochs_gd = range(len(objvals_gd))\n",
    "epochs_sgd = range(len(objvals_sgd))\n",
    "\n",
    "line0, = plt.plot(epochs_gd, objvals_gd, '--b', LineWidth=4)\n",
    "line1, = plt.plot(epochs_sgd, objvals_sgd, '-r', LineWidth=2)\n",
    "plt.xlabel('Epochs', FontSize=20)\n",
    "plt.ylabel('Objective Value', FontSize=20)\n",
    "plt.xticks(FontSize=16)\n",
    "plt.yticks(FontSize=16)\n",
    "plt.legend([line0, line1], ['GD', 'SGD'], fontsize=20)\n",
    "plt.tight_layout()\n",
    "plt.show()\n",
    "fig.savefig('compare_gd_sgd.pdf', format='pdf', dpi=1200)"
   ]
  },
  {
   "cell_type": "markdown",
   "metadata": {},
   "source": [
    "# 5. Prediction"
   ]
  },
  {
   "cell_type": "code",
   "execution_count": 14,
   "metadata": {},
   "outputs": [],
   "source": [
    "# Predict class label\n",
    "# Inputs:\n",
    "#     w: d-by-1 matrix\n",
    "#     X: m-by-d matrix\n",
    "# Return:\n",
    "#     f: m-by-1 matrix, the predictions\n",
    "def predict(w, X):\n",
    "    xw = numpy.dot(X, w)\n",
    "    f = numpy.sign(xw)\n",
    "    return f"
   ]
  },
  {
   "cell_type": "code",
   "execution_count": 15,
   "metadata": {},
   "outputs": [
    {
     "name": "stdout",
     "output_type": "stream",
     "text": [
      "Training classification error is 0.2125\n"
     ]
    }
   ],
   "source": [
    "# evaluate training error\n",
    "f_train = predict(w, x_train)\n",
    "diff = numpy.abs(f_train - y_train) / 2\n",
    "error_train = numpy.mean(diff)\n",
    "print('Training classification error is ' + str(error_train))"
   ]
  },
  {
   "cell_type": "code",
   "execution_count": 16,
   "metadata": {},
   "outputs": [
    {
     "name": "stdout",
     "output_type": "stream",
     "text": [
      "Test classification error is 0.21875\n"
     ]
    }
   ],
   "source": [
    "# evaluate test error\n",
    "f_test = predict(w, x_test)\n",
    "diff = numpy.abs(f_test - y_test) / 2\n",
    "error_test = numpy.mean(diff)\n",
    "print('Test classification error is ' + str(error_test))"
   ]
  },
  {
   "cell_type": "markdown",
   "metadata": {},
   "source": [
    "# 6. Mini-batch SGD \n",
    "\n"
   ]
  },
  {
   "cell_type": "markdown",
   "metadata": {},
   "source": [
    "## 6.1. Compute the objective $Q_I$ and its gradient using a batch of samples\n",
    "\n",
    "Define $Q_I (w) = \\frac{1}{b} \\sum_{i \\in I} \\log \\Big( 1 + \\exp \\big( - y_i x_i^T w \\big) \\Big) + \\frac{\\lambda}{2} \\| w \\|_2^2 $, where $I$ is a set containing $b$ indices randomly drawn from $\\{ 1, \\cdots , n \\}$ without replacement.\n",
    "\n",
    "The stochastic gradient at $w$ is $g_I = \\frac{\\partial Q_I }{ \\partial w} = \\frac{1}{b} \\sum_{i \\in I} \\frac{- y_i x_i }{1 + \\exp ( y_i x_i^T w)} + \\lambda w$."
   ]
  },
  {
   "cell_type": "code",
   "execution_count": 17,
   "metadata": {},
   "outputs": [],
   "source": [
    "# Calculate the objective Q_I and the gradient of Q_I\n",
    "# Inputs:\n",
    "#     w: d-by-1 matrix\n",
    "#     xi: b-by-d matrix\n",
    "#     yi: b-by-1 matrix\n",
    "#     lam: scalar, the regularization parameter\n",
    "#     b: integer, the batch size\n",
    "# Return:\n",
    "#     obj: scalar, the objective Q_i\n",
    "#     g: d-by-1 matrix, gradient of Q_i\n",
    "def mb_stochastic_objective_gradient(w, xi, yi, lam, b):\n",
    "    n,d = xi.shape\n",
    "    yx = numpy.multiply(yi,xi) # b-by-d matrix\n",
    "    yxw = numpy.dot(yx, w) # b-by-1 matrix\n",
    "    \n",
    "    # calculate objective function Q_i\n",
    "    vec = numpy.log(1 + numpy.exp(-yxw)) # b-by-1 matrix\n",
    "    loss = numpy.mean(vec)  # scalar\n",
    "    reg = lam / 2 * numpy.sum(w * w) # scalar\n",
    "    obj = loss + reg\n",
    "    \n",
    "    # calculate stochastic gradient\n",
    "    vec1 = numpy.exp(yxw) # n-by-1 matrix\n",
    "    vec2 = numpy.divide(yx, 1+vec1) # n-by-d matrix\n",
    "    vec3 = -numpy.mean(vec2, axis=0).reshape(d, 1) # d-by-1 matrix\n",
    "    g = vec3 + lam * w\n",
    "    \n",
    "    return obj, g"
   ]
  },
  {
   "cell_type": "markdown",
   "metadata": {},
   "source": [
    "## 6.2. Implement mini-batch SGD\n",
    "\n",
    "\n",
    "1. In every epoch, randomly permute the $n$ samples (just like SGD).\n",
    "2. Each epoch has $\\frac{n}{b}$ iterations. In every iteration, use $b$ samples, and compute the gradient and objective using the ``mb_stochastic_objective_gradient`` function. In the next iteration, use the next $b$ samples, and so on.\n"
   ]
  },
  {
   "cell_type": "code",
   "execution_count": 2,
   "metadata": {},
   "outputs": [],
   "source": [
    "# Mini-Batch SGD for solving logistic regression\n",
    "# Inputs:\n",
    "#     x: n-by-d matrix\n",
    "#     y: n-by-1 matrix\n",
    "#     lam: scalar, the regularization parameter\n",
    "#     b: integer, the batch size\n",
    "#     stepsize: scalar\n",
    "#     max_epoch: integer, the maximal epochs\n",
    "#     w: d-by-1 matrix, initialization of w\n",
    "# Return:\n",
    "#     w: the solution\n",
    "#     objvals: record of each iteration's objective value\n",
    "def mb_sgd(x, y, lam, b, stepsize, max_epoch=100, w=None):\n",
    "    n, d = x.shape\n",
    "    objvals = numpy.zeros(max_epoch) # store the objective values\n",
    "    if w is None:\n",
    "        w = numpy.zeros((d, 1)) # zero initialization\n",
    "    for e in range(max_epoch):\n",
    "        rand_indices = numpy.random.permutation(n)\n",
    "        objval = 0\n",
    "        for i in range(int(n/b)):\n",
    "            x_mb = x[rand_indices[i*b:i*b+b], :] #Sequentially selects 8 training feature vector samples\n",
    "            y_mb = y[rand_indices[i*b:i*b+b], :] \n",
    "            obj, g = mb_stochastic_objective_gradient(w, x_mb, y_mb, lam, b)\n",
    "            objval+=obj\n",
    "            w -= stepsize*g\n",
    "        stepsize *= 0.9 # decrease step size\n",
    "        objval*=b/n\n",
    "        objvals[e]=objval\n",
    "        print('Objective value at epoch e=' + str(e) + ' is ' + str(objval))\n",
    "   \n",
    "    # Record one objective value per epoch (not per iteration!)\n",
    "    ...\n",
    "    \n",
    "    return w, objvals"
   ]
  },
  {
   "cell_type": "markdown",
   "metadata": {},
   "source": [
    "## 6.3. Run MB-SGD"
   ]
  },
  {
   "cell_type": "code",
   "execution_count": 19,
   "metadata": {},
   "outputs": [
    {
     "name": "stdout",
     "output_type": "stream",
     "text": [
      "Objective value at epoch e=0 is 0.5232180362065325\n",
      "Objective value at epoch e=1 is 0.5076657721382241\n",
      "Objective value at epoch e=2 is 0.5088738394610964\n",
      "Objective value at epoch e=3 is 0.499008361147419\n",
      "Objective value at epoch e=4 is 0.5067436036804142\n",
      "Objective value at epoch e=5 is 0.49428631213203045\n",
      "Objective value at epoch e=6 is 0.49729642873187924\n",
      "Objective value at epoch e=7 is 0.49307664578084265\n",
      "Objective value at epoch e=8 is 0.49404508494328775\n",
      "Objective value at epoch e=9 is 0.49162547815718094\n",
      "Objective value at epoch e=10 is 0.4892495469953799\n",
      "Objective value at epoch e=11 is 0.48749907334567305\n",
      "Objective value at epoch e=12 is 0.4854145091717561\n",
      "Objective value at epoch e=13 is 0.48373430921099914\n",
      "Objective value at epoch e=14 is 0.4844772631002632\n",
      "Objective value at epoch e=15 is 0.481873534675601\n",
      "Objective value at epoch e=16 is 0.48031847223954416\n",
      "Objective value at epoch e=17 is 0.4800881524217763\n",
      "Objective value at epoch e=18 is 0.47924315428458597\n",
      "Objective value at epoch e=19 is 0.4795162696591684\n",
      "Objective value at epoch e=20 is 0.47912734592782197\n",
      "Objective value at epoch e=21 is 0.47767865890810557\n",
      "Objective value at epoch e=22 is 0.4766704804436073\n",
      "Objective value at epoch e=23 is 0.4762183309837935\n",
      "Objective value at epoch e=24 is 0.47608316236206305\n",
      "Objective value at epoch e=25 is 0.4755919423524665\n",
      "Objective value at epoch e=26 is 0.4749630572132808\n",
      "Objective value at epoch e=27 is 0.4752899924858026\n",
      "Objective value at epoch e=28 is 0.4750805815171879\n",
      "Objective value at epoch e=29 is 0.474302474082449\n",
      "Objective value at epoch e=30 is 0.4744466216269464\n",
      "Objective value at epoch e=31 is 0.4740353179093975\n",
      "Objective value at epoch e=32 is 0.47369124865215595\n",
      "Objective value at epoch e=33 is 0.47319639183445505\n",
      "Objective value at epoch e=34 is 0.4732104977982746\n",
      "Objective value at epoch e=35 is 0.4730786119359636\n",
      "Objective value at epoch e=36 is 0.47301998203594764\n",
      "Objective value at epoch e=37 is 0.4728197177487176\n",
      "Objective value at epoch e=38 is 0.4727189252262859\n",
      "Objective value at epoch e=39 is 0.4726697839908076\n",
      "Objective value at epoch e=40 is 0.4725829733459678\n",
      "Objective value at epoch e=41 is 0.4724310956275516\n",
      "Objective value at epoch e=42 is 0.47250420798825143\n",
      "Objective value at epoch e=43 is 0.47232046252189125\n",
      "Objective value at epoch e=44 is 0.4722908072754833\n",
      "Objective value at epoch e=45 is 0.47224092599432166\n",
      "Objective value at epoch e=46 is 0.47208498707989704\n",
      "Objective value at epoch e=47 is 0.47209866867963407\n",
      "Objective value at epoch e=48 is 0.47206619177141773\n",
      "Objective value at epoch e=49 is 0.4720282964854925\n",
      "Objective value at epoch e=50 is 0.47196544912931054\n",
      "Objective value at epoch e=51 is 0.4719511023777794\n",
      "Objective value at epoch e=52 is 0.47190614034844663\n",
      "Objective value at epoch e=53 is 0.47189576615773143\n",
      "Objective value at epoch e=54 is 0.47185277698312805\n",
      "Objective value at epoch e=55 is 0.47184787884220114\n",
      "Objective value at epoch e=56 is 0.47183160572907107\n",
      "Objective value at epoch e=57 is 0.4718300170556255\n",
      "Objective value at epoch e=58 is 0.471792185638906\n",
      "Objective value at epoch e=59 is 0.471777306254394\n",
      "Objective value at epoch e=60 is 0.47176956277880777\n",
      "Objective value at epoch e=61 is 0.4717540740294028\n",
      "Objective value at epoch e=62 is 0.4717508997484278\n",
      "Objective value at epoch e=63 is 0.4717417768420492\n",
      "Objective value at epoch e=64 is 0.4717286224218949\n",
      "Objective value at epoch e=65 is 0.47172842430571216\n",
      "Objective value at epoch e=66 is 0.47172037508480813\n",
      "Objective value at epoch e=67 is 0.4717155514758525\n",
      "Objective value at epoch e=68 is 0.4717037292052568\n",
      "Objective value at epoch e=69 is 0.4717006008527981\n",
      "Objective value at epoch e=70 is 0.4717004838987038\n",
      "Objective value at epoch e=71 is 0.4716927038067186\n",
      "Objective value at epoch e=72 is 0.47169019015523894\n",
      "Objective value at epoch e=73 is 0.47169061127892653\n",
      "Objective value at epoch e=74 is 0.47168524342679974\n",
      "Objective value at epoch e=75 is 0.4716832457659401\n",
      "Objective value at epoch e=76 is 0.471680359998187\n",
      "Objective value at epoch e=77 is 0.471679380340698\n",
      "Objective value at epoch e=78 is 0.47167521854432864\n",
      "Objective value at epoch e=79 is 0.471674747409208\n",
      "Objective value at epoch e=80 is 0.4716726850292827\n",
      "Objective value at epoch e=81 is 0.47167228161294394\n",
      "Objective value at epoch e=82 is 0.4716713520893161\n",
      "Objective value at epoch e=83 is 0.47166974408458917\n",
      "Objective value at epoch e=84 is 0.4716685354050573\n",
      "Objective value at epoch e=85 is 0.4716681565350035\n",
      "Objective value at epoch e=86 is 0.4716667519772136\n",
      "Objective value at epoch e=87 is 0.4716668341996716\n",
      "Objective value at epoch e=88 is 0.47166630990768366\n",
      "Objective value at epoch e=89 is 0.4716655327218197\n",
      "Objective value at epoch e=90 is 0.4716650090859711\n",
      "Objective value at epoch e=91 is 0.47166466742255475\n",
      "Objective value at epoch e=92 is 0.47166397209764926\n",
      "Objective value at epoch e=93 is 0.47166367550219346\n",
      "Objective value at epoch e=94 is 0.47166320273077256\n",
      "Objective value at epoch e=95 is 0.47166307111043104\n",
      "Objective value at epoch e=96 is 0.4716627577547945\n",
      "Objective value at epoch e=97 is 0.47166264046691214\n",
      "Objective value at epoch e=98 is 0.471662134197479\n",
      "Objective value at epoch e=99 is 0.47166203797291095\n"
     ]
    }
   ],
   "source": [
    "# MB-SGD with batch size b=8\n",
    "lam = 1E-6 \n",
    "b = 8\n",
    "stepsize = 0.66\n",
    "\n",
    "w, objvals_mbsgd8 = mb_sgd(x_train, y_train, lam, b, stepsize)"
   ]
  },
  {
   "cell_type": "code",
   "execution_count": 20,
   "metadata": {},
   "outputs": [
    {
     "name": "stdout",
     "output_type": "stream",
     "text": [
      "Objective value at epoch e=0 is 0.5547279889252137\n",
      "Objective value at epoch e=1 is 0.49072523233764453\n",
      "Objective value at epoch e=2 is 0.4822130556877988\n",
      "Objective value at epoch e=3 is 0.4774222279359447\n",
      "Objective value at epoch e=4 is 0.4769911664396038\n",
      "Objective value at epoch e=5 is 0.47535267630575995\n",
      "Objective value at epoch e=6 is 0.47605434284223735\n",
      "Objective value at epoch e=7 is 0.4752728860656854\n",
      "Objective value at epoch e=8 is 0.4749716489889245\n",
      "Objective value at epoch e=9 is 0.4744975945265785\n",
      "Objective value at epoch e=10 is 0.4741183524009007\n",
      "Objective value at epoch e=11 is 0.47431299234731406\n",
      "Objective value at epoch e=12 is 0.47417566516406223\n",
      "Objective value at epoch e=13 is 0.4736302838467589\n",
      "Objective value at epoch e=14 is 0.4731175485878728\n",
      "Objective value at epoch e=15 is 0.47288894751120164\n",
      "Objective value at epoch e=16 is 0.4734405389580104\n",
      "Objective value at epoch e=17 is 0.4729140031327142\n",
      "Objective value at epoch e=18 is 0.4727875355546175\n",
      "Objective value at epoch e=19 is 0.47263461251786243\n",
      "Objective value at epoch e=20 is 0.4724966846819933\n",
      "Objective value at epoch e=21 is 0.47241539869148214\n",
      "Objective value at epoch e=22 is 0.472413880294277\n",
      "Objective value at epoch e=23 is 0.4723898074814713\n",
      "Objective value at epoch e=24 is 0.47211449980384557\n",
      "Objective value at epoch e=25 is 0.47210483427288263\n",
      "Objective value at epoch e=26 is 0.47227797152993367\n",
      "Objective value at epoch e=27 is 0.47202261160723263\n",
      "Objective value at epoch e=28 is 0.4720881691854912\n",
      "Objective value at epoch e=29 is 0.47192555938001446\n",
      "Objective value at epoch e=30 is 0.4719782385851521\n",
      "Objective value at epoch e=31 is 0.47194119757487824\n",
      "Objective value at epoch e=32 is 0.4719313509578605\n",
      "Objective value at epoch e=33 is 0.4719182553812756\n",
      "Objective value at epoch e=34 is 0.4718975347620326\n",
      "Objective value at epoch e=35 is 0.4718235802480093\n",
      "Objective value at epoch e=36 is 0.47183885392567043\n",
      "Objective value at epoch e=37 is 0.4718417216029167\n",
      "Objective value at epoch e=38 is 0.4718322626709277\n",
      "Objective value at epoch e=39 is 0.4717869021155684\n",
      "Objective value at epoch e=40 is 0.47177028615894523\n",
      "Objective value at epoch e=41 is 0.4717474673919224\n",
      "Objective value at epoch e=42 is 0.47176218700565703\n",
      "Objective value at epoch e=43 is 0.47173513364921704\n",
      "Objective value at epoch e=44 is 0.47174511958933474\n",
      "Objective value at epoch e=45 is 0.4717541154631921\n",
      "Objective value at epoch e=46 is 0.4717147603717533\n",
      "Objective value at epoch e=47 is 0.4717471803410675\n",
      "Objective value at epoch e=48 is 0.47170506720169714\n",
      "Objective value at epoch e=49 is 0.47170559772085563\n",
      "Objective value at epoch e=50 is 0.47170328811673956\n",
      "Objective value at epoch e=51 is 0.47169295700547464\n",
      "Objective value at epoch e=52 is 0.4716859248939822\n",
      "Objective value at epoch e=53 is 0.4716841782025866\n",
      "Objective value at epoch e=54 is 0.4716978229113871\n",
      "Objective value at epoch e=55 is 0.47168187391651745\n",
      "Objective value at epoch e=56 is 0.47168003073275644\n",
      "Objective value at epoch e=57 is 0.4716822951825539\n",
      "Objective value at epoch e=58 is 0.47167665857087776\n",
      "Objective value at epoch e=59 is 0.4716754149351946\n",
      "Objective value at epoch e=60 is 0.4716798201255092\n",
      "Objective value at epoch e=61 is 0.4716749628171837\n",
      "Objective value at epoch e=62 is 0.47167097742392844\n",
      "Objective value at epoch e=63 is 0.47167020011389155\n",
      "Objective value at epoch e=64 is 0.4716708217135363\n",
      "Objective value at epoch e=65 is 0.47167004468496\n",
      "Objective value at epoch e=66 is 0.47166933214936696\n",
      "Objective value at epoch e=67 is 0.4716700778196236\n",
      "Objective value at epoch e=68 is 0.4716678221032724\n",
      "Objective value at epoch e=69 is 0.47166656476852964\n",
      "Objective value at epoch e=70 is 0.4716664964334818\n",
      "Objective value at epoch e=71 is 0.4716661053921229\n",
      "Objective value at epoch e=72 is 0.47166456869224077\n",
      "Objective value at epoch e=73 is 0.4716648073548367\n",
      "Objective value at epoch e=74 is 0.47166511063057204\n",
      "Objective value at epoch e=75 is 0.4716641578328189\n",
      "Objective value at epoch e=76 is 0.4716639375827314\n",
      "Objective value at epoch e=77 is 0.47166317023807747\n",
      "Objective value at epoch e=78 is 0.47166333480469824\n",
      "Objective value at epoch e=79 is 0.47166314842807755\n",
      "Objective value at epoch e=80 is 0.47166288482867336\n",
      "Objective value at epoch e=81 is 0.4716625368775613\n",
      "Objective value at epoch e=82 is 0.47166258104584174\n",
      "Objective value at epoch e=83 is 0.471662355471556\n",
      "Objective value at epoch e=84 is 0.47166251228882594\n",
      "Objective value at epoch e=85 is 0.47166232630581817\n",
      "Objective value at epoch e=86 is 0.47166224792746814\n",
      "Objective value at epoch e=87 is 0.4716621325152785\n",
      "Objective value at epoch e=88 is 0.47166202269034596\n",
      "Objective value at epoch e=89 is 0.4716621956581999\n",
      "Objective value at epoch e=90 is 0.47166186239840907\n",
      "Objective value at epoch e=91 is 0.47166211556597804\n",
      "Objective value at epoch e=92 is 0.47166182006169993\n",
      "Objective value at epoch e=93 is 0.4716618449430503\n",
      "Objective value at epoch e=94 is 0.4716616954010495\n",
      "Objective value at epoch e=95 is 0.4716617270783614\n",
      "Objective value at epoch e=96 is 0.4716616238436462\n",
      "Objective value at epoch e=97 is 0.47166165182836806\n",
      "Objective value at epoch e=98 is 0.4716615231213288\n",
      "Objective value at epoch e=99 is 0.4716615457225949\n"
     ]
    }
   ],
   "source": [
    "# MB-SGD with batch size b=64\n",
    "lam = 1E-6 \n",
    "b = 64 \n",
    "stepsize = 0.71 \n",
    "\n",
    "w, objvals_mbsgd64 = mb_sgd(x_train, y_train, lam, b, stepsize)"
   ]
  },
  {
   "cell_type": "markdown",
   "metadata": {},
   "source": [
    "# 7. Plot and compare GD, SGD, and MB-SGD"
   ]
  },
  {
   "cell_type": "markdown",
   "metadata": {},
   "source": [
    "compare the following algorithms:\n",
    "\n",
    "- Gradient descent (GD)\n",
    "\n",
    "- SGD\n",
    "\n",
    "- MB-SGD with b=8\n",
    "\n",
    "- MB-SGD with b=64\n",
    "\n",
    "Plot ```objective function value``` against ```epochs```. There should be four curves in the plot; each curve corresponds to one algorithm."
   ]
  },
  {
   "cell_type": "markdown",
   "metadata": {},
   "source": [
    "Logistic regression with $\\ell_2$-norm regularization is a strongly convex optimization problem. All the algorithms will converge to the same solution. **In the end, the ``objective function value`` of the 4 algorithms will be the same. "
   ]
  },
  {
   "cell_type": "code",
   "execution_count": 21,
   "metadata": {},
   "outputs": [
    {
     "data": {
      "image/png": "[encoded data removed]",
      "text/plain": [
       "<Figure size 432x288 with 1 Axes>"
      ]
     },
     "metadata": {
      "needs_background": "light"
     },
     "output_type": "display_data"
    }
   ],
   "source": [
    "# plot the 4 curves:\n",
    "import matplotlib.pyplot as plt\n",
    "%matplotlib inline\n",
    "\n",
    "fig = plt.figure(figsize=(6, 4))\n",
    "\n",
    "epochs_gd = range(len(objvals_gd))\n",
    "epochs_sgd = range(len(objvals_sgd))\n",
    "epochs_mbsgd8 = range(len(objvals_mbsgd8))\n",
    "epochs_mbsgd64 = range(len(objvals_mbsgd64))\n",
    "\n",
    "line0, = plt.plot(epochs_gd, objvals_gd, '--b', LineWidth=6)\n",
    "line1, = plt.plot(epochs_sgd, objvals_sgd, '-r', LineWidth=6, alpha = 0.7)\n",
    "line2, = plt.plot(epochs_mbsgd8, objvals_mbsgd8, '-.c', LineWidth=6, alpha = 1)\n",
    "line3, = plt.plot(epochs_mbsgd64, objvals_mbsgd64, '--k', LineWidth=4, alpha = 0.7)\n",
    "plt.xlabel('Epochs', FontSize=20)\n",
    "plt.ylabel('Objective Value', FontSize=20)\n",
    "plt.xticks(FontSize=16)\n",
    "plt.yticks(FontSize=16)\n",
    "plt.legend([line0, line1, line2, line3], ['GD', 'SGD','MBSGD8', 'MBSGD64'], fontsize=20)\n",
    "plt.tight_layout()\n",
    "plt.show()\n",
    "fig.savefig('compare_gd_sgd.pdf', format='pdf', dpi=1200)"
   ]
  },
  {
   "cell_type": "markdown",
   "metadata": {},
   "source": []
  }
 ],
 "metadata": {
  "kernelspec": {
   "display_name": "Python 3",
   "language": "python",
   "name": "python3"
  },
  "language_info": {
   "codemirror_mode": {
    "name": "ipython",
    "version": 3
   },
   "file_extension": ".py",
   "mimetype": "text/x-python",
   "name": "python",
   "nbconvert_exporter": "python",
   "pygments_lexer": "ipython3",
   "version": "3.7.10"
  }
 },
 "nbformat": 4,
 "nbformat_minor": 2
}
